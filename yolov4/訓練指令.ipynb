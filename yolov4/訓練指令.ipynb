{
 "cells": [
  {
   "cell_type": "markdown",
   "id": "fd8b5e73-d383-42d3-92d7-99b00925bc61",
   "metadata": {},
   "source": [
    "訓練指令"
   ]
  },
  {
   "cell_type": "code",
   "execution_count": null,
   "id": "f507576e-2c7d-4f37-a47a-9d132700057c",
   "metadata": {},
   "outputs": [],
   "source": [
    "darknet detector train ../Final/yolov4/monitor.data ../Final/yolov4/monitor.cfg ../Final/yolov4/yolov4.conv.137 -dont_show -map"
   ]
  },
  {
   "cell_type": "code",
   "execution_count": null,
   "id": "50e537eb-92ba-4b49-bfbc-95dcebdcb4a3",
   "metadata": {},
   "outputs": [],
   "source": [
    "darknet detector train ../Final/yolov4/monitor.data ../Final/yolov4/monitor-tiny.cfg ../Final/yolov4/yolov4-tiny.conv.29 -dont_show -map"
   ]
  },
  {
   "cell_type": "markdown",
   "id": "2a96cd3f-fa6c-4a4a-ad63-ffce7787edf6",
   "metadata": {},
   "source": [
    "下載初始權重指令"
   ]
  },
  {
   "cell_type": "code",
   "execution_count": null,
   "id": "f8f06667-674e-4cc8-8c69-e14783bcd68a",
   "metadata": {},
   "outputs": [],
   "source": [
    "wget https://github.com/AlexeyAB/darknet/releases/download/darknet_yolo_v4_pre/yolov4-tiny.conv.29"
   ]
  },
  {
   "cell_type": "code",
   "execution_count": null,
   "id": "d4949536-73c1-4051-95cb-ec9ade75d79c",
   "metadata": {},
   "outputs": [],
   "source": [
    "whet https://github.com/AlexeyAB/darknet/releases/download/darknet_yolo_v3_optimal/yolov4.conv.137"
   ]
  }
 ],
 "metadata": {
  "kernelspec": {
   "display_name": "Python 3 (ipykernel)",
   "language": "python",
   "name": "python3"
  },
  "language_info": {
   "codemirror_mode": {
    "name": "ipython",
    "version": 3
   },
   "file_extension": ".py",
   "mimetype": "text/x-python",
   "name": "python",
   "nbconvert_exporter": "python",
   "pygments_lexer": "ipython3",
   "version": "3.8.10"
  }
 },
 "nbformat": 4,
 "nbformat_minor": 5
}
