{
 "cells": [
  {
   "cell_type": "markdown",
   "id": "4cd1daf1-fd8d-41e4-a7ed-d3af47525d0d",
   "metadata": {},
   "source": [
    "依序執行下面的Cell\n",
    "選取Cell後按 ctrl + enter"
   ]
  },
  {
   "cell_type": "code",
   "execution_count": 1,
   "id": "46e24bb0-aabb-4fc0-b0ae-e521c3c4e5d9",
   "metadata": {},
   "outputs": [],
   "source": [
    "#這一個Cell執行只需一次，不須操作，再執行會刪除已複製的檔案\n",
    "from IPython.display import Image, display\n",
    "import shutil\n",
    "import tarfile\n",
    "import os\n",
    "os.chdir('/root/Switch/')\n",
    "\n",
    "!rm -r output\n",
    "!mkdir -p output/on output/off output/uncertain"
   ]
  },
  {
   "cell_type": "code",
   "execution_count": 4,
   "id": "8db3642b-ef07-497b-b3e7-c2bf7e62d1d8",
   "metadata": {},
   "outputs": [],
   "source": [
    "## 這一個Cell執行只需一次，不須操作\n",
    "def move_pic(position, file_num):\n",
    "    source=r'/root/Switch/images/switch_' + '%04d'%i  + '.jpg'\n",
    "    if(position == '0'):\n",
    "        destination=r'/root/Switch/output/off/switch_' + '%04d'%i  + '.jpg'\n",
    "    elif(position == '1'):\n",
    "        destination=r'/root/Switch/output/on/switch_' + '%04d'%i  + '.jpg'\n",
    "    else:\n",
    "        destination=r'/root/Switch/output/uncertain/switch_' + '%04d'%i  + '.jpg'\n",
    "    shutil.copy(source, destination)\n",
    "\n",
    "def recursive_files(dir_name='.', ignore=None):\n",
    "    for dir_name,subdirs,files in os.walk(dir_name):\n",
    "        if ignore and os.path.basename(dir_name) in ignore: \n",
    "            continue\n",
    "\n",
    "        for file_name in files:\n",
    "            if ignore and file_name in ignore:\n",
    "                continue\n",
    "\n",
    "            yield os.path.join(dir_name, file_name)\n",
    "\n",
    "def make_tar_file(dir_name='.', tar_file_name='tarfile.tar', ignore=None):\n",
    "    tar = tarfile.open(tar_file_name, 'w')\n",
    "\n",
    "    for file_name in recursive_files(dir_name, ignore):\n",
    "        tar.add(file_name)\n",
    "\n",
    "    tar.close()"
   ]
  },
  {
   "cell_type": "code",
   "execution_count": null,
   "id": "5de88719-539b-487f-a56f-66364524bf4b",
   "metadata": {},
   "outputs": [],
   "source": [
    "#執行後依照指示輸入\n",
    "print('輸入開始範圍：')\n",
    "s = int(input())\n",
    "print('輸入結束範圍：')\n",
    "e = int(input())\n",
    "print('將會從\\n' + 'switch_' + '%04d'%s  + '.jpg\\n到\\nswitch_' + '%04d'%e  + '.jpg\\n沒錯誤執行下個Cell，或重新執行這個Cell再設定一次')"
   ]
  },
  {
   "cell_type": "code",
   "execution_count": null,
   "id": "f13844fd-4221-4466-86c4-e4956c0e6a46",
   "metadata": {},
   "outputs": [],
   "source": [
    "#執行後依照指示輸入\n",
    "for i in range(s,e+1):\n",
    "    path = '/root/Switch/images/switch_' + '%04d'%i  + '.jpg'\n",
    "    print(path)\n",
    "    display(Image(filename=path, width = 200, height = 300))\n",
    "    print('關閉輸入「0」，開啟輸入「1」，不確定輸入「2」：')\n",
    "    pos = input()\n",
    "    move_pic(pos, i)\n",
    "\n",
    "print('輸入學號：')\n",
    "dir_name = 'output'\n",
    "sid = input()\n",
    "tar_file_name = sid + '.tar'\n",
    "ignore = {'.ipynb_checkpoints', '__pycache__', tar_file_name}\n",
    "make_tar_file(dir_name, tar_file_name, ignore)\n",
    "print('完成！')"
   ]
  },
  {
   "cell_type": "markdown",
   "id": "a823b665-f047-4890-a7a2-e2f227ba3b88",
   "metadata": {},
   "source": [
    "結尾工作：\n",
    "\n",
    "將 \"學號.tar\"下載到電腦後，上傳到OneDrive\n",
    "\n",
    "`專題 > 實作 > 訓練資料 > switch`裡面\n",
    "\n",
    "結束後刪除容器服務，在管理介面的左邊打勾後，再按刪除按鈕"
   ]
  }
 ],
 "metadata": {
  "kernelspec": {
   "display_name": "Python 3 (ipykernel)",
   "language": "python",
   "name": "python3"
  },
  "language_info": {
   "codemirror_mode": {
    "name": "ipython",
    "version": 3
   },
   "file_extension": ".py",
   "mimetype": "text/x-python",
   "name": "python",
   "nbconvert_exporter": "python",
   "pygments_lexer": "ipython3",
   "version": "3.8.10"
  }
 },
 "nbformat": 4,
 "nbformat_minor": 5
}
